{
  "nbformat": 4,
  "nbformat_minor": 0,
  "metadata": {
    "colab": {
      "provenance": [],
      "mount_file_id": "1aMuy2EHsZzgUkaihl20u-zBV7SOF-8UE",
      "authorship_tag": "ABX9TyOrxmDV1ur8LHkXP7tMF/RS",
      "include_colab_link": true
    },
    "kernelspec": {
      "name": "python3",
      "display_name": "Python 3"
    },
    "language_info": {
      "name": "python"
    }
  },
  "cells": [
    {
      "cell_type": "markdown",
      "metadata": {
        "id": "view-in-github",
        "colab_type": "text"
      },
      "source": [
        "<a href=\"https://colab.research.google.com/github/SanjayBhargavKudupudi/Clustering/blob/main/Image/Image_Embedding.ipynb\" target=\"_parent\"><img src=\"https://colab.research.google.com/assets/colab-badge.svg\" alt=\"Open In Colab\"/></a>"
      ]
    },
    {
      "cell_type": "code",
      "execution_count": 3,
      "metadata": {
        "colab": {
          "base_uri": "https://localhost:8080/",
          "height": 523
        },
        "id": "ypoQN8dnDIw9",
        "outputId": "54eca96b-5581-4dc9-8199-2f40371ab0bd"
      },
      "outputs": [
        {
          "output_type": "stream",
          "name": "stderr",
          "text": [
            "/usr/local/lib/python3.10/dist-packages/PIL/Image.py:996: UserWarning: Palette images with Transparency expressed in bytes should be converted to RGBA images\n",
            "  warnings.warn(\n",
            "/usr/local/lib/python3.10/dist-packages/sklearn/cluster/_kmeans.py:870: FutureWarning: The default value of `n_init` will change from 10 to 'auto' in 1.4. Set the value of `n_init` explicitly to suppress the warning\n",
            "  warnings.warn(\n"
          ]
        },
        {
          "output_type": "display_data",
          "data": {
            "text/plain": [
              "<Figure size 640x480 with 1 Axes>"
            ],
            "image/png": "[encoded data removed]"
          },
          "metadata": {}
        }
      ],
      "source": [
        "# Import necessary libraries\n",
        "import tensorflow as tf\n",
        "import numpy as np\n",
        "from sklearn.cluster import KMeans\n",
        "from sklearn.decomposition import PCA\n",
        "import matplotlib.pyplot as plt\n",
        "\n",
        "# Function to load and preprocess images\n",
        "def load_and_preprocess_images(image_paths):\n",
        "    images = []\n",
        "    for path in image_paths:\n",
        "        img = tf.keras.preprocessing.image.load_img(path, target_size=(224, 224))\n",
        "        img = tf.keras.preprocessing.image.img_to_array(img)\n",
        "        img = tf.keras.applications.mobilenet_v2.preprocess_input(img)\n",
        "        images.append(img)\n",
        "    return np.array(images)\n",
        "\n",
        "# Function to extract embeddings using imagebind llm\n",
        "def extract_embeddings(images):\n",
        "    # This function should use imagebind llm to extract embeddings\n",
        "    # Replace the below line with the actual embedding extraction code\n",
        "    embeddings = [np.random.rand(128) for _ in images]\n",
        "    return np.array(embeddings)\n",
        "\n",
        "# Function to perform clustering\n",
        "def perform_clustering(embeddings, n_clusters=5):\n",
        "    kmeans = KMeans(n_clusters=n_clusters)\n",
        "    kmeans.fit(embeddings)\n",
        "    return kmeans.labels_\n",
        "\n",
        "# Load your images (replace with actual paths)\n",
        "image_paths = ['/content/drive/MyDrive/DATA_MINING_DATASETS/img/images/images/absol.png','/content/drive/MyDrive/DATA_MINING_DATASETS/img/images/images/espeon.png','/content/drive/MyDrive/DATA_MINING_DATASETS/img/images/images/exeggutor.png','/content/drive/MyDrive/DATA_MINING_DATASETS/img/images/images/feebas.png','/content/drive/MyDrive/DATA_MINING_DATASETS/img/images/images/araquanid.jpg', '/content/drive/MyDrive/DATA_MINING_DATASETS/img/images/images/altaria.png','/content/drive/MyDrive/DATA_MINING_DATASETS/img/images/images/chinchou.png']\n",
        "images = load_and_preprocess_images(image_paths)\n",
        "\n",
        "# Extract embeddings\n",
        "embeddings = extract_embeddings(images)\n",
        "\n",
        "# Perform clustering\n",
        "labels = perform_clustering(embeddings)\n",
        "\n",
        "# Visualization (optional, based on your specific needs)\n",
        "# Example: PCA for dimensionality reduction\n",
        "pca = PCA(n_components=2)\n",
        "reduced_embeddings = pca.fit_transform(embeddings)\n",
        "plt.scatter(reduced_embeddings[:, 0], reduced_embeddings[:, 1], c=labels)\n",
        "plt.show()\n"
      ]
    },
    {
      "cell_type": "code",
      "source": [],
      "metadata": {
        "id": "hLYGt4fKFiCv"
      },
      "execution_count": null,
      "outputs": []
    }
  ]
}
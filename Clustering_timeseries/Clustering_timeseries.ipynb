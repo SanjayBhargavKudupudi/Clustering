{
  "nbformat": 4,
  "nbformat_minor": 0,
  "metadata": {
    "colab": {
      "provenance": [],
      "mount_file_id": "1WgqGC4nTxhQghthXfDMCuOhEAnjkPwX9",
      "authorship_tag": "ABX9TyMc7Y/rYirFw3i6f+IvkRQm",
      "include_colab_link": true
    },
    "kernelspec": {
      "name": "python3",
      "display_name": "Python 3"
    },
    "language_info": {
      "name": "python"
    }
  },
  "cells": [
    {
      "cell_type": "markdown",
      "metadata": {
        "id": "view-in-github",
        "colab_type": "text"
      },
      "source": [
        "<a href=\"https://colab.research.google.com/github/SanjayBhargavKudupudi/Clustering/blob/main/Clustering_timeseries/Clustering_timeseries.ipynb\" target=\"_parent\"><img src=\"https://colab.research.google.com/assets/colab-badge.svg\" alt=\"Open In Colab\"/></a>"
      ]
    },
    {
      "cell_type": "code",
      "source": [
        "from sklearn.datasets import fetch_california_housing\n",
        "import pandas as pd\n",
        "\n",
        "data = fetch_california_housing()\n",
        "df = pd.DataFrame(data.data, columns=data.feature_names)\n"
      ],
      "metadata": {
        "id": "ZQE9z0WWELxn"
      },
      "execution_count": null,
      "outputs": []
    },
    {
      "cell_type": "markdown",
      "source": [
        "We'll standardize the data since neural networks often benefit from scaling of the input features."
      ],
      "metadata": {
        "id": "jgyBD0ktJ-ZO"
      }
    },
    {
      "cell_type": "code",
      "source": [
        "from sklearn.preprocessing import StandardScaler\n",
        "\n",
        "scaler = StandardScaler()\n",
        "scaled_df = scaler.fit_transform(df)\n"
      ],
      "metadata": {
        "id": "orfgzFcOFv_c"
      },
      "execution_count": null,
      "outputs": []
    },
    {
      "cell_type": "markdown",
      "source": [
        "We can use TensorFlow/Keras in Colab to load a pretrained model or train a simple one on the dataset:"
      ],
      "metadata": {
        "id": "rNXsLVXPJbp1"
      }
    },
    {
      "cell_type": "code",
      "source": [
        "from tensorflow.keras.models import Sequential\n",
        "from tensorflow.keras.layers import Dense\n",
        "\n",
        "# Define a simple model - in a real scenario, you'd use a pretrained model\n",
        "model = Sequential()\n",
        "model.add(Dense(64, activation='relu', input_shape=(scaled_df.shape[1],)))\n",
        "model.add(Dense(32, activation='relu'))\n",
        "model.add(Dense(8, activation='relu'))  # This layer is our feature extractor\n",
        "\n",
        "# Compile the model\n",
        "model.compile(optimizer='adam', loss='mse')\n",
        "\n",
        "# You can train this model on the dataset, or ideally load your pretrained model\n"
      ],
      "metadata": {
        "id": "MOOBCm21FyjD"
      },
      "execution_count": null,
      "outputs": []
    },
    {
      "cell_type": "markdown",
      "source": [
        "After extracting features, use a clustering algorithm like K-Means:"
      ],
      "metadata": {
        "id": "Aoxh4fP8Jsgl"
      }
    },
    {
      "cell_type": "code",
      "source": [
        "from sklearn.cluster import KMeans\n",
        "\n",
        "# Dummy feature extraction step - replace this with actual model predictions\n",
        "features = model.predict(scaled_df)\n",
        "\n",
        "# Apply K-Means clustering\n",
        "kmeans = KMeans(n_clusters=3, random_state=0)\n",
        "clusters = kmeans.fit_predict(features)\n"
      ],
      "metadata": {
        "colab": {
          "base_uri": "https://localhost:8080/"
        },
        "id": "kz-EwwEgF3oD",
        "outputId": "cec81efc-93ee-419e-bb1c-cbedc84862ab"
      },
      "execution_count": null,
      "outputs": [
        {
          "output_type": "stream",
          "name": "stdout",
          "text": [
            "645/645 [==============================] - 3s 2ms/step\n"
          ]
        },
        {
          "output_type": "stream",
          "name": "stderr",
          "text": [
            "/usr/local/lib/python3.10/dist-packages/sklearn/cluster/_kmeans.py:870: FutureWarning: The default value of `n_init` will change from 10 to 'auto' in 1.4. Set the value of `n_init` explicitly to suppress the warning\n",
            "  warnings.warn(\n"
          ]
        }
      ]
    },
    {
      "cell_type": "markdown",
      "source": [
        "Visualization\n",
        "Visualizing  the clusters in the feature space:"
      ],
      "metadata": {
        "id": "IKx6SdHiJlnP"
      }
    },
    {
      "cell_type": "code",
      "source": [
        "import matplotlib.pyplot as plt\n",
        "\n",
        "plt.figure(figsize=(8, 6))\n",
        "plt.scatter(features[:, 0], features[:, 1], c=clusters, cmap='viridis', marker='o')\n",
        "plt.title('Clustering of Extracted Features')\n",
        "plt.xlabel('Feature 1')\n",
        "plt.ylabel('Feature 2')\n",
        "plt.show()\n"
      ],
      "metadata": {
        "colab": {
          "base_uri": "https://localhost:8080/",
          "height": 564
        },
        "id": "oXBEFjFLF6Nk",
        "outputId": "fd71d322-60f6-46e2-f8dc-56972ce1e2e1"
      },
      "execution_count": null,
      "outputs": [
        {
          "output_type": "display_data",
          "data": {
            "text/plain": [
              "<Figure size 800x600 with 1 Axes>"
            ],
            "image/png": "[encoded data removed]"
          },
          "metadata": {}
        }
      ]
    },
    {
      "cell_type": "code",
      "source": [],
      "metadata": {
        "id": "cKaRv0w0GAry"
      },
      "execution_count": null,
      "outputs": []
    }
  ]
}